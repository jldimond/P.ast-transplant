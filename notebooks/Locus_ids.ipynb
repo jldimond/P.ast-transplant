{
 "cells": [
  {
   "cell_type": "markdown",
   "metadata": {},
   "source": [
    "# This notebook extracts unique locus IDs from the data3.snps.map file\n",
    "\n",
    "# It also extracts differentially methylated loci to enable blast search"
   ]
  },
  {
   "cell_type": "code",
   "execution_count": 1,
   "metadata": {},
   "outputs": [
    {
     "name": "stdout",
     "output_type": "stream",
     "text": [
      "/Users/jd/Documents/Projects/PoritesRADseq/Branching-Porites/analyses/ipyrad_analysis/data3_outfiles\n"
     ]
    }
   ],
   "source": [
    "cd ../analyses/ipyrad_analysis/data3_outfiles/"
   ]
  },
  {
   "cell_type": "code",
   "execution_count": 2,
   "metadata": {},
   "outputs": [
    {
     "name": "stdout",
     "output_type": "stream",
     "text": [
      "1\trad36_snp0\t0\t1\r\n",
      "2\trad45_snp0\t0\t2\r\n",
      "2\trad45_snp1\t0\t3\r\n",
      "2\trad45_snp2\t0\t4\r\n",
      "2\trad45_snp3\t0\t5\r\n",
      "2\trad45_snp4\t0\t6\r\n",
      "2\trad45_snp5\t0\t7\r\n",
      "2\trad45_snp6\t0\t8\r\n",
      "3\trad49_snp0\t0\t9\r\n",
      "3\trad49_snp1\t0\t10\r\n"
     ]
    }
   ],
   "source": [
    "!head data3.snps.map"
   ]
  },
  {
   "cell_type": "code",
   "execution_count": 3,
   "metadata": {
    "collapsed": true
   },
   "outputs": [],
   "source": [
    "!awk '{ print $2 }' data3.snps.map > loc_id.txt | head loc_id.txt"
   ]
  },
  {
   "cell_type": "code",
   "execution_count": 21,
   "metadata": {},
   "outputs": [
    {
     "name": "stdout",
     "output_type": "stream",
     "text": [
      "rad36_snp0\r\n",
      "rad45_snp0\r\n",
      "rad45_snp1\r\n",
      "rad45_snp2\r\n",
      "rad45_snp3\r\n",
      "rad45_snp4\r\n",
      "rad45_snp5\r\n",
      "rad45_snp6\r\n",
      "rad49_snp0\r\n",
      "rad49_snp1\r\n"
     ]
    }
   ],
   "source": [
    "!head loc_id.txt"
   ]
  },
  {
   "cell_type": "code",
   "execution_count": 30,
   "metadata": {},
   "outputs": [],
   "source": [
    "!sed 's/_snp[0-9]*//g' loc_id.txt > loc_id2.txt"
   ]
  },
  {
   "cell_type": "code",
   "execution_count": 31,
   "metadata": {},
   "outputs": [
    {
     "name": "stdout",
     "output_type": "stream",
     "text": [
      "rad36\r\n",
      "rad45\r\n",
      "rad45\r\n",
      "rad45\r\n",
      "rad45\r\n",
      "rad45\r\n",
      "rad45\r\n",
      "rad45\r\n",
      "rad49\r\n",
      "rad49\r\n"
     ]
    }
   ],
   "source": [
    "!head loc_id2.txt"
   ]
  },
  {
   "cell_type": "code",
   "execution_count": 32,
   "metadata": {
    "collapsed": true
   },
   "outputs": [],
   "source": [
    "!sed 's/[^0-9]*//g' loc_id2.txt > loc_id3.txt"
   ]
  },
  {
   "cell_type": "code",
   "execution_count": 33,
   "metadata": {},
   "outputs": [
    {
     "name": "stdout",
     "output_type": "stream",
     "text": [
      "36\r\n",
      "45\r\n",
      "45\r\n",
      "45\r\n",
      "45\r\n",
      "45\r\n",
      "45\r\n",
      "45\r\n",
      "49\r\n",
      "49\r\n"
     ]
    }
   ],
   "source": [
    "!head loc_id3.txt"
   ]
  },
  {
   "cell_type": "code",
   "execution_count": 34,
   "metadata": {},
   "outputs": [
    {
     "name": "stdout",
     "output_type": "stream",
     "text": [
      "141677\r\n",
      "141677\r\n",
      "141677\r\n",
      "141677\r\n",
      "141677\r\n",
      "141677\r\n",
      "141677\r\n",
      "141677\r\n",
      "141677\r\n",
      "141677\r\n"
     ]
    }
   ],
   "source": [
    "!tail loc_id3.txt"
   ]
  },
  {
   "cell_type": "code",
   "execution_count": 35,
   "metadata": {
    "collapsed": true
   },
   "outputs": [],
   "source": [
    "!uniq loc_id3.txt > loc_id4.txt"
   ]
  },
  {
   "cell_type": "code",
   "execution_count": 38,
   "metadata": {},
   "outputs": [
    {
     "name": "stdout",
     "output_type": "stream",
     "text": [
      "36\r\n",
      "45\r\n",
      "49\r\n",
      "58\r\n",
      "65\r\n",
      "71\r\n",
      "79\r\n",
      "80\r\n",
      "87\r\n",
      "95\r\n"
     ]
    }
   ],
   "source": [
    "!head loc_id4.txt "
   ]
  },
  {
   "cell_type": "code",
   "execution_count": 37,
   "metadata": {},
   "outputs": [
    {
     "name": "stdout",
     "output_type": "stream",
     "text": [
      "   11822   11822   73251 loc_id4.txt\r\n"
     ]
    }
   ],
   "source": [
    "!wc loc_id4.txt"
   ]
  },
  {
   "cell_type": "markdown",
   "metadata": {},
   "source": [
    "#Match differentially methylated locus IDs with sequences to enable blast search"
   ]
  },
  {
   "cell_type": "code",
   "execution_count": 306,
   "metadata": {},
   "outputs": [
    {
     "data": {
      "text/plain": [
       "u'/Users/jd/Documents/Projects/PoritesRADseq/P.ast-transplant/analyses/ipyrad_analysis/data2_outfiles'"
      ]
     },
     "execution_count": 306,
     "metadata": {},
     "output_type": "execute_result"
    }
   ],
   "source": [
    "pwd"
   ]
  },
  {
   "cell_type": "code",
   "execution_count": 307,
   "metadata": {},
   "outputs": [
    {
     "name": "stdout",
     "output_type": "stream",
     "text": [
      "\"x\"\r\n",
      "20278\r\n",
      "33059\r\n",
      "36065\r\n",
      "40397\r\n",
      "49813\r\n",
      "50635\r\n",
      "50692\r\n",
      "51711\r\n",
      "51981\r\n"
     ]
    }
   ],
   "source": [
    "!head diffmeth5.txt"
   ]
  },
  {
   "cell_type": "code",
   "execution_count": 308,
   "metadata": {},
   "outputs": [
    {
     "name": "stdout",
     "output_type": "stream",
     "text": [
      "80_ddr           CATATCATGAAGCATTTGCCTATTAGCTTRCTTGCTGCGTTGAAGCTTGTAAAAAACAGCTGCTCCCTCCCCTCAGGRAAAAAATCGGGA-nnnnCRGTTGCTCGTTTGGTTCAGGCCATCCTATTTGCCCTAGGTCAGACCAAATTCTACACTTTCTAGCCCTAAGAGAGACGACGAGCGTCC\r\n",
      "80_epi           CATATCATGAAGCATTTGCCTATTAGCTTGCTTGCTGCGTTGAAGCTTGTAAAAAACAGCTGCTCCCTCCCCTCAGGAAAAAAATCGGGA-nnnnCGGTTGCTCGTTTGGTTCAGGCCATCCTATTTGCCCTAGGTCAGACCAAATTCTACACTTTCTAGCCCTAAGAGAGACGACGAGCGTCC\r\n",
      "86_ddr           CATATCATGAAGCATTTGCCTATTAGCTTGCTTGCTGCGTTGAAGCTTGTAAAAAACAGCTGCTCCCTCCCCTCAGGAAAAAAATCGGGA-nnnnCGGTTGCTCGTTTGGTTCAGGCCATCCTATTTGCCCTAGGTCAGACCAAATTCTACACTTTCTAGCCCTAAGAGAGACGACGAGCGTCC\r\n",
      "86_epi           CATATCATGAAGCATTTGCCTATTAGCTTGCTTGCTGCGTTGAAGCTTGTAAAAAACAGCTGCTCCCTCCCCTCAGGAAAAAAATCGGGA-nnnn---TTGCTCGTTTGGTTCAGGCCATCCTATTTGCCCTAGGTCAGACCAAATTCTACACTTTCTAGCCCTAAGAGAGACGACGAGCGTCC\r\n",
      "88b_ddr          CATATCATGAAGCATTTGCCTATTAGCTTGCTTGCTGCGTTGAAGCTTGTAAAAAACAGCTGCTCCCTCCCCTCAGGAAAAAAATCGGGA-nnnn---TTGCTCGTTTGGTTCAGGCCATCCTATTTGCCCTAGGTCAGACCAAATTCTACACTTTCTAGCCCTAAGAGAGACGACGA------\r\n",
      "90_ddr           CATATCATGAAGCATTTGCCTATTAGCTTGCTTGCTGCGTTGAAGCTTGTAAAAAACAGCTGCTCCCTCCCCTCAGGAAAAAAATCGGGA-nnnn---TTGCTCGTTTGGTTCAGGCCATCCTATTTGCCCTAGGTCAGACCAAATTCTACACTTTCTAGCCCTAAGAGAGACGACGAGCGTCC\r\n",
      "98_ddr           CATATCATGAAGCATTTGCCTATTAGCTTGCNTGCTGCGTTGAAGCTTGTAAAAAACAGCTGCTCCCTCCCCTCAGGAAAAAAATCGGGA-nnnnCGGTTGCTCGTTTGGTTCAGGCCATCCTATTTGCCCTAGGTCAGACCAAATTCTACACTTTCTAGCCCTAAGAGAGACGACGAGCGNCC\r\n",
      "pa-bl-1_ddr      CATATCATGAAGCATTTGCCTATTAGCTTGCTTGCTGCGTTGAAGCTTGTAAAAAACAGCTGCTCCCTCCCCTCAGGAAAAAAATCGGGAAnnnnCGGTTGCTCGTTTGGTTCAGGCCATCCTATTTGCCCTAGGTCAGACCAAATTCTACACTTTCTAGCCCTAAGAGAGACGACGAGCGTCC\r\n",
      "pa-bl-1_epi      CATATCATGAAGCATTTGCCTATTAGCTTGCTTGCTGCGTTGAAGCTTGTAAAAAACAGCTGCTCCCTCCCCTCAGGAAAAAAATCGGGAAnnnnCGGTTGCTCGTTTGGTTCAGGCCATCCTATTTGCCCTAGGTCAGACCAAATTCTACACTTTCTAGCCCTAAGAGAGACGACGAGCGTCC\r\n",
      "pa10-15_ddr      CATATCATGAAGCATTTGCCTATTAGCTTGCTTGCTGCGTTGAAGCTTGTAAAAAACAGCTGCTCCCTCCCCTCAGGAAAAAAATCGGGAAnnnnCGGTTGCTCGTTTGGTTCAGGCCATCCTATTTGCCCTAGGTCAGACCAAATTCTACACTTTCTAGCCCTAAGAGAGACGACGAGCGTCC\r\n"
     ]
    }
   ],
   "source": [
    "!head data2.loci"
   ]
  },
  {
   "cell_type": "code",
   "execution_count": 309,
   "metadata": {},
   "outputs": [],
   "source": [
    "#find sequences matching locus IDs and get leading 5 lines\n",
    "!grep -B5 -Fwf diffmeth5.txt data2.loci > diff_loci.txt"
   ]
  },
  {
   "cell_type": "code",
   "execution_count": 310,
   "metadata": {},
   "outputs": [
    {
     "name": "stdout",
     "output_type": "stream",
     "text": [
      "pa8-16_epi       AAAATTGATGTCAAAAGACAAGCCTACCACAGTCAAAGTTTTGTTGGCAATCATGTTGACATCTGCCTTAAGGTAATAAGTCAGAACGAAAnnnnCGGGCAAACGGGGTTAACAGTGATTCAAACGTCTTCTGGATAGCAATGGCCTCATGTAAAAGAGATGGAGATGTGGTCCTTGTCGTTTCA\r\n",
      "pa9-15_ddr       AAAATTGATGTCAAAAGACAAGCCTACCACAGTCAAAGTTTTGTTGGCAATCATGTTGACATCTGCCTTAAGGTAATAAGTCAGAACGAAAnnnnCGGGCAAACGGGGTTAACAGTGATTCAAACGTCTTCTGGATAGCAATGGCCTCATGTAAAAGAGATGGAGATGTGGTCCTTGTCGTTTCA\r\n",
      "pa9-16_ddr       AAAATTGATGTCAAAAGACAAGCCTACCACAGTCAAAGTTTTGTTGGCAATCATGTTGACATCTGCCTTAAGGTAATAAGTCAGAACGAAAnnnnCGGGCAAACGGGGTTAACAGTGATTCAAACGTCTTCTGGATAGCAATGGCCTCATGTAAAAGAGATGGAGATGTGGTCCTTGTCGTTTCA\r\n",
      "w1_ddr           AAAATTGATGTCAAAAGACAAGCCTACCACAGTCAAAGTTTTGTTGGCAATCATGTTGACATCTGCCTTAAGGTAATAAGTCAGAACGAA-nnnn-GGGCAAACGGGGTTAACAGTGATTCAAACGTCTTCTGGATAGCAATGGCCTCATGTAAAAGAGATGGAGATGTGGTCCTTGTCGTTTC-\r\n",
      "w3_ddr           AAAATTGATGTCAAAAGACAAGCCTACCACAGTCAAAGTTTTGTTGGCAATCATGTTGACATCTGCCTTAAGGTAATAAGTCAGAACGAA-nnnn-GGGCAAACGGGGTTAACAGTGATTCAAACGTCTTCTGGATAGCAATGGCCTCATGTAAAAGAGATGGAGATGTGGTCCTTGTCGTTTC-\r\n",
      "//                                                      *                                           -            -                                                                                        |20278|\r\n",
      "--\r\n",
      "pa9-15_epi       CCACTCTACCTGTTGTACTGACCCACGAGTTGGATCACACTGCTCTTCCTTCTTTGTAAACTATATTCGATTTGTTTAATGCTGTTTCGTAnnnnCGGGCCATATCATTAACTACTTTATCACTTTACTTGAGGAAATTAATGTATGATATTATTTCATATATTTGTACGTTTTGTTGTACAA\r\n",
      "pa9-16_ddr       CCACTCTACCTGTTGTACTGACCCACGAGTTGGATCACACTGCTCTTCCTTCTTTGTAAACTATATTCGATTTGTTTAATGCTGTTTCGTAnnnnCGGGCCATATCATTAACTACTTTATCACTTTACTTGAGGAAATTAATGTATGATATTATTTCATATATTTGTACGTTTTGTTGTACAA\r\n",
      "w1_ddr           CCACTCTACCTGTTGTACTGACCCACGAGTTGGATCACACTGCTCTTCCTTCTTTGTAAACTATATTCGATTTGTTTAATGCTGTTTCGT-nnnnCGGGCCATATCATTAACTACTTTATCACTTTACTTGAGGAAATTAATGTATGATATTATTTCATATATTTGTACGTTTTGTTGTAC--\r\n"
     ]
    }
   ],
   "source": [
    "!head diff_loci.txt"
   ]
  },
  {
   "cell_type": "code",
   "execution_count": 311,
   "metadata": {},
   "outputs": [],
   "source": [
    "#remove leading characters and spaces\n",
    "!sed 's/^.................//' diff_loci.txt > diff_loci2.txt "
   ]
  },
  {
   "cell_type": "code",
   "execution_count": 312,
   "metadata": {},
   "outputs": [
    {
     "name": "stdout",
     "output_type": "stream",
     "text": [
      "AAAATTGATGTCAAAAGACAAGCCTACCACAGTCAAAGTTTTGTTGGCAATCATGTTGACATCTGCCTTAAGGTAATAAGTCAGAACGAAAnnnnCGGGCAAACGGGGTTAACAGTGATTCAAACGTCTTCTGGATAGCAATGGCCTCATGTAAAAGAGATGGAGATGTGGTCCTTGTCGTTTCA\r\n",
      "AAAATTGATGTCAAAAGACAAGCCTACCACAGTCAAAGTTTTGTTGGCAATCATGTTGACATCTGCCTTAAGGTAATAAGTCAGAACGAAAnnnnCGGGCAAACGGGGTTAACAGTGATTCAAACGTCTTCTGGATAGCAATGGCCTCATGTAAAAGAGATGGAGATGTGGTCCTTGTCGTTTCA\r\n",
      "AAAATTGATGTCAAAAGACAAGCCTACCACAGTCAAAGTTTTGTTGGCAATCATGTTGACATCTGCCTTAAGGTAATAAGTCAGAACGAAAnnnnCGGGCAAACGGGGTTAACAGTGATTCAAACGTCTTCTGGATAGCAATGGCCTCATGTAAAAGAGATGGAGATGTGGTCCTTGTCGTTTCA\r\n",
      "AAAATTGATGTCAAAAGACAAGCCTACCACAGTCAAAGTTTTGTTGGCAATCATGTTGACATCTGCCTTAAGGTAATAAGTCAGAACGAA-nnnn-GGGCAAACGGGGTTAACAGTGATTCAAACGTCTTCTGGATAGCAATGGCCTCATGTAAAAGAGATGGAGATGTGGTCCTTGTCGTTTC-\r\n",
      "AAAATTGATGTCAAAAGACAAGCCTACCACAGTCAAAGTTTTGTTGGCAATCATGTTGACATCTGCCTTAAGGTAATAAGTCAGAACGAA-nnnn-GGGCAAACGGGGTTAACAGTGATTCAAACGTCTTCTGGATAGCAATGGCCTCATGTAAAAGAGATGGAGATGTGGTCCTTGTCGTTTC-\r\n",
      "                                       *                                           -            -                                                                                        |20278|\r\n",
      "--\r\n",
      "CCACTCTACCTGTTGTACTGACCCACGAGTTGGATCACACTGCTCTTCCTTCTTTGTAAACTATATTCGATTTGTTTAATGCTGTTTCGTAnnnnCGGGCCATATCATTAACTACTTTATCACTTTACTTGAGGAAATTAATGTATGATATTATTTCATATATTTGTACGTTTTGTTGTACAA\r\n",
      "CCACTCTACCTGTTGTACTGACCCACGAGTTGGATCACACTGCTCTTCCTTCTTTGTAAACTATATTCGATTTGTTTAATGCTGTTTCGTAnnnnCGGGCCATATCATTAACTACTTTATCACTTTACTTGAGGAAATTAATGTATGATATTATTTCATATATTTGTACGTTTTGTTGTACAA\r\n",
      "CCACTCTACCTGTTGTACTGACCCACGAGTTGGATCACACTGCTCTTCCTTCTTTGTAAACTATATTCGATTTGTTTAATGCTGTTTCGT-nnnnCGGGCCATATCATTAACTACTTTATCACTTTACTTGAGGAAATTAATGTATGATATTATTTCATATATTTGTACGTTTTGTTGTAC--\r\n"
     ]
    }
   ],
   "source": [
    "!head diff_loci2.txt"
   ]
  },
  {
   "cell_type": "code",
   "execution_count": 313,
   "metadata": {
    "collapsed": true
   },
   "outputs": [],
   "source": [
    "#I attempted different ways of extracting the first line (sequence) of every record, but it did not seem to work, so I\n",
    "#manually edited the file in excel"
   ]
  },
  {
   "cell_type": "code",
   "execution_count": 318,
   "metadata": {},
   "outputs": [
    {
     "name": "stdout",
     "output_type": "stream",
     "text": [
      ">20278\r",
      "AAAATTGATGTCAAAAGACAAGCCTACCACAGTCAAAGTTTTGTTGGCAATCATGTTGACATCTGCCTTAAGGTAATAAGTCAGAACGAAAnnnnCGGGCAAACGGGGTTAACAGTGATTCAAACGTCTTCTGGATAGCAATGGCCTCATGTAAAAGAGATGGAGATGTGGTCCTTGTCGTTTCA\r",
      ">33059\r",
      "CCACTCTACCTGTTGTACTGACCCACGAGTTGGATCACACTGCTCTTCCTTCTTTGTAAACTATATTCGATTTGTTTAATGCTGTTTCGTAnnnnCGGGCCATATCATTAACTACTTTATCACTTTACTTGAGGAAATTAATGTATGATATTATTTCATATATTTGTACGTTTTGTTGTACAA\r",
      ">36065\r",
      "CTTTTCAGCCTTTGAGAAAATCTCTTTCTGAAGGATCACCAGTCAGCATTCCAGATATTGTTGCCGCTAGAACAGGTGTGAGTGATATGAAnnnnCGGCATTAGGTTGTGTTACATATTATTGTATCTCTTTAGGCATTCTAGATGTCTCCAACCAAGTGGTATGCCTGTGGAAGCTTGAGGA\r",
      ">40397\r",
      "ATGCTTTCTAAAACCAAGAGGAATACTAAGTGTCTTTTTCAATCCTTGAAAAATATGATTTGCTACTGCAACTGAACAAGATCACCAGATAnnnnCGGTCTGTTATGGCCAGCTTGCTGAACACCTTGTGCAAGCCTTGCTATAGCTACTCTTGATCTTTCTCCTCTCGGCTGAAAATTAACAGG--\r",
      ">49813\r",
      "TTGCTGAGGTCTTTTGTTCCTGCCCTAAGATAACCTGAGCAGTGGCAGGAGACACTGCCGCAGAAGGAGGAATCTGCTTCTTGACAAGAGTnnnnCGGTGCCACTATAGGAACCCCAACAGTTGTGCAGCTAGCAGGTGCTTCTCCTGTGAAAGCAAACATTGCACAGCTGACAACATCTTCA\r",
      ">50635\r",
      "ATTTCAAAATAGCTCATGCACGTAAAACGTGCCTATGTTTTCTACAATAGCAAGTGGAGGATTACTGTGTCTTTCATTAATCAATTTCAAAnnnnCGGAATTGCCTTTGTTTAGTTTCGAGTAGTTCGCTCTCTACTCTTGACACTCAAGATAACAAGATCAAAGGGCTCTATGAGCCACTCA-\r",
      ">50692\r",
      "CTATAACATGTACTAGGCCAACAGTCATTTTAATTAGCCAAAAAAACTGAGGASTAGGGTTGATTACAGATGTTCTTGAATTTCCCAAAACnnnnCGGTCACAAACAGTGAGTAACTAAGGACATTCTGAGTTACAGGAGCCAATCAAAATGTTTGAAAATTGCTATTCACTGATTTGGTAAAG\r",
      ">51711\r",
      "TGTGCTCAATAATTGCTGTTGAAACTTGTGCCAATGTAGTTTCATTATATGACAAGTACATGGAACTGAGGAGAAGACGAAGGATGGGAAGnnnnCGGAAAAACAGCCCTCTGTAGCCTGACAACATAGCTATATAATAAACAACACCAAATACAAAACCACCAAGGTGTGCAGCATGACCAA-\r",
      ">51981\r",
      "TCAATATGTGTGCAAAATAAGACTAATTCATAATATAGTTCATATACAGCTGTACCTGTCATAAAACAGATAAAACTTCCAAATTGTGAAAnnnnCGGTCCGACTTTTGTACCTGCCTTATTTTCTATGGGAATAACATTTGCGAGTTATTAAACAAGTGATTGGAACATTAACGGGATAATG\r",
      ">52178\r",
      "ATTTTGTTGAAATTGCATCATTTTACAGCAAGAGGGCCATATCCCCTTCGTCGAGCGATTTAAGAGCTCAAGCTGGCTTACTCAATTTTTGnnnnCGGTGTCAGTTGCCTGAGTTGACCCCAAACTCCCACTCCAACACCAGCAAATAAGCTGAGAGTGCCTGAACAAGGTCGATACCTTAT------\r",
      ">56218\r",
      "ATCACATTAAGTTGTTTTTATTTTGTTTGTTTCTCTTTCAAAGACCCCTTAGGCTAACTGGTTATTTTAGGTAACATTCTTCATACCTAGTnnnnCGGACTGAAACTTTAACATTTTAACTGAGACAACTCTCTCTGTTACCACTACACTGGCTATGCAGGGCCTGTCATTTTACAGAAAA\r",
      ">66685\r",
      "AGTCTTTTCCTTGGCGTGTTACATACTAACCTCGATAGGCAGAGGCTCATAGAGGAATTTCTTAAAGTATTCTTTTTTGGATGCTTGACAAnnnnCGGTAATAACTTTTSATGCTTACTTTCCCAATGAGCTTATATGCCTTATCAAGTTATTAT-AAAAAAAGAAAAAACTGCGAAGACTTCCT\r",
      ">69826\r",
      "AAAAGATAACTTCACATGGTATGATGAATAAACAAACACAAACATTCAATTTCTAATGTTTTTATTTTTCGTGTTATATCATTTAATGATT-nnnnCGGTATGTCAGTTGAAATCTTTAGACTTCTTTGAGGACAATTCCAATGGGGAGGAGCAGCGGGCAGTGGGTTCTGGGTATTCAGGGT\r",
      ">70737\r",
      "TTTGYAAATACAGTAGAACCTCGATACGTTGAACTCGGATACAAATTTCACTGAAATTTCCCCTGATAACTCRAATTCTTTGCTAACTCGAnnnnCGGGATGTCTTGGGCCTTATCGGCTTATTTCTCGCAACTGTGGTAAATCCTAAGTCTTGCAAAGTAAAGCTGTAATATTTGTACTTGACA\r",
      ">71640\r",
      "TAGAGAACAACATAAAACCCACAAAGTATAATTTATCATAGTGTGCATGTATGTGTTGTTAAAAATTTAAAAATTCAAACCAGTTTATTGAnnnnCGGGTAGCCTCCCACAAAGGCATTTATGAGGGCAGTCATATTTCCCTGTGAGGGAGGAAATACAACTCCCCAGAAATGCCTGCGCTG\r",
      ">76792\r",
      "CTCTACTGTACCTACACTGTAAACCAAAACAACAGCTCTGATCATCACCATTGTTACAGCTTGAAAAAAGAGGCGACATTTCATCATG--nnnnCGGAGTTCCCCCTCTGGGTAGTACCTCCACTATACCAATACTATCACAATATCCATGTGACCTATTGCAAGACAATAATAATGCAATAAT\r",
      ">79549\r",
      "TTGGACTATCGTAAGMGACCACTTGCCGTAAGCGACCATTAACTCTTCRCAATAGACCTWGTCACGGTTTTCGACGCCATCTTGACGAGTAnnnnCGGGGATGTCTTACAGACAAATGTATAGAAAATTTTAAAAAGTGGTTCTAGGTCTTGTAGTACATGTAACGCCCTCAATKTTTTTCAG\r",
      ">82074\r",
      "ATAAAAATGTTGATAAAAGTTGATGTAACCTACATGTAGTCATAAGAAATTTGTACCAACAGTATCCATGGCAACCATTGTTTATTTTGTCnnnn-GGTTGTGATCTACCAAAACATGTTGCTCTTTAACAATTTCTTCTCTTGGAGCAAAGTCTTCACACAAGTTTTGAAATGACATTCTTAGA\r",
      ">82175\r",
      "TTTCCAAATAGACAGCTTGCTTGCAGGATCTTCTTACTGGTGATTTGTTTATGTCATGTCCAAAAGAAGTTACTCACACTTGTTGTTTTATGCnnnnCGGGTGTCATCCCTTCTTTACACATTCCAAAATCTGCCAACTTGATATGTCCATCTTTGTCTAAAAGTACATTATCTAATTTTAAAT"
     ]
    }
   ],
   "source": [
    "!cat diff_loci.fasta"
   ]
  },
  {
   "cell_type": "code",
   "execution_count": 316,
   "metadata": {},
   "outputs": [],
   "source": [
    "#replace hyphen with n\n",
    "!sed 's/\\-/n/g' diff_loci.fasta > diff_loci2.fasta"
   ]
  },
  {
   "cell_type": "code",
   "execution_count": 317,
   "metadata": {},
   "outputs": [
    {
     "name": "stdout",
     "output_type": "stream",
     "text": [
      ">20278\r",
      "AAAATTGATGTCAAAAGACAAGCCTACCACAGTCAAAGTTTTGTTGGCAATCATGTTGACATCTGCCTTAAGGTAATAAGTCAGAACGAAAnnnnCGGGCAAACGGGGTTAACAGTGATTCAAACGTCTTCTGGATAGCAATGGCCTCATGTAAAAGAGATGGAGATGTGGTCCTTGTCGTTTCA\r",
      ">33059\r",
      "CCACTCTACCTGTTGTACTGACCCACGAGTTGGATCACACTGCTCTTCCTTCTTTGTAAACTATATTCGATTTGTTTAATGCTGTTTCGTAnnnnCGGGCCATATCATTAACTACTTTATCACTTTACTTGAGGAAATTAATGTATGATATTATTTCATATATTTGTACGTTTTGTTGTACAA\r",
      ">36065\r",
      "CTTTTCAGCCTTTGAGAAAATCTCTTTCTGAAGGATCACCAGTCAGCATTCCAGATATTGTTGCCGCTAGAACAGGTGTGAGTGATATGAAnnnnCGGCATTAGGTTGTGTTACATATTATTGTATCTCTTTAGGCATTCTAGATGTCTCCAACCAAGTGGTATGCCTGTGGAAGCTTGAGGA\r",
      ">40397\r",
      "ATGCTTTCTAAAACCAAGAGGAATACTAAGTGTCTTTTTCAATCCTTGAAAAATATGATTTGCTACTGCAACTGAACAAGATCACCAGATAnnnnCGGTCTGTTATGGCCAGCTTGCTGAACACCTTGTGCAAGCCTTGCTATAGCTACTCTTGATCTTTCTCCTCTCGGCTGAAAATTAACAGGnn\r",
      ">49813\r",
      "TTGCTGAGGTCTTTTGTTCCTGCCCTAAGATAACCTGAGCAGTGGCAGGAGACACTGCCGCAGAAGGAGGAATCTGCTTCTTGACAAGAGTnnnnCGGTGCCACTATAGGAACCCCAACAGTTGTGCAGCTAGCAGGTGCTTCTCCTGTGAAAGCAAACATTGCACAGCTGACAACATCTTCA\r",
      ">50635\r",
      "ATTTCAAAATAGCTCATGCACGTAAAACGTGCCTATGTTTTCTACAATAGCAAGTGGAGGATTACTGTGTCTTTCATTAATCAATTTCAAAnnnnCGGAATTGCCTTTGTTTAGTTTCGAGTAGTTCGCTCTCTACTCTTGACACTCAAGATAACAAGATCAAAGGGCTCTATGAGCCACTCAn\r",
      ">50692\r",
      "CTATAACATGTACTAGGCCAACAGTCATTTTAATTAGCCAAAAAAACTGAGGASTAGGGTTGATTACAGATGTTCTTGAATTTCCCAAAACnnnnCGGTCACAAACAGTGAGTAACTAAGGACATTCTGAGTTACAGGAGCCAATCAAAATGTTTGAAAATTGCTATTCACTGATTTGGTAAAG\r",
      ">51711\r",
      "TGTGCTCAATAATTGCTGTTGAAACTTGTGCCAATGTAGTTTCATTATATGACAAGTACATGGAACTGAGGAGAAGACGAAGGATGGGAAGnnnnCGGAAAAACAGCCCTCTGTAGCCTGACAACATAGCTATATAATAAACAACACCAAATACAAAACCACCAAGGTGTGCAGCATGACCAAn\r",
      ">51981\r",
      "TCAATATGTGTGCAAAATAAGACTAATTCATAATATAGTTCATATACAGCTGTACCTGTCATAAAACAGATAAAACTTCCAAATTGTGAAAnnnnCGGTCCGACTTTTGTACCTGCCTTATTTTCTATGGGAATAACATTTGCGAGTTATTAAACAAGTGATTGGAACATTAACGGGATAATG\r",
      ">52178\r",
      "ATTTTGTTGAAATTGCATCATTTTACAGCAAGAGGGCCATATCCCCTTCGTCGAGCGATTTAAGAGCTCAAGCTGGCTTACTCAATTTTTGnnnnCGGTGTCAGTTGCCTGAGTTGACCCCAAACTCCCACTCCAACACCAGCAAATAAGCTGAGAGTGCCTGAACAAGGTCGATACCTTATnnnnnn\r",
      ">56218\r",
      "ATCACATTAAGTTGTTTTTATTTTGTTTGTTTCTCTTTCAAAGACCCCTTAGGCTAACTGGTTATTTTAGGTAACATTCTTCATACCTAGTnnnnCGGACTGAAACTTTAACATTTTAACTGAGACAACTCTCTCTGTTACCACTACACTGGCTATGCAGGGCCTGTCATTTTACAGAAAA\r",
      ">66685\r",
      "AGTCTTTTCCTTGGCGTGTTACATACTAACCTCGATAGGCAGAGGCTCATAGAGGAATTTCTTAAAGTATTCTTTTTTGGATGCTTGACAAnnnnCGGTAATAACTTTTSATGCTTACTTTCCCAATGAGCTTATATGCCTTATCAAGTTATTATnAAAAAAAGAAAAAACTGCGAAGACTTCCT\r",
      ">69826\r",
      "AAAAGATAACTTCACATGGTATGATGAATAAACAAACACAAACATTCAATTTCTAATGTTTTTATTTTTCGTGTTATATCATTTAATGATTnnnnnCGGTATGTCAGTTGAAATCTTTAGACTTCTTTGAGGACAATTCCAATGGGGAGGAGCAGCGGGCAGTGGGTTCTGGGTATTCAGGGT\r",
      ">70737\r",
      "TTTGYAAATACAGTAGAACCTCGATACGTTGAACTCGGATACAAATTTCACTGAAATTTCCCCTGATAACTCRAATTCTTTGCTAACTCGAnnnnCGGGATGTCTTGGGCCTTATCGGCTTATTTCTCGCAACTGTGGTAAATCCTAAGTCTTGCAAAGTAAAGCTGTAATATTTGTACTTGACA\r",
      ">71640\r",
      "TAGAGAACAACATAAAACCCACAAAGTATAATTTATCATAGTGTGCATGTATGTGTTGTTAAAAATTTAAAAATTCAAACCAGTTTATTGAnnnnCGGGTAGCCTCCCACAAAGGCATTTATGAGGGCAGTCATATTTCCCTGTGAGGGAGGAAATACAACTCCCCAGAAATGCCTGCGCTG\r",
      ">76792\r",
      "CTCTACTGTACCTACACTGTAAACCAAAACAACAGCTCTGATCATCACCATTGTTACAGCTTGAAAAAAGAGGCGACATTTCATCATGnnnnnnCGGAGTTCCCCCTCTGGGTAGTACCTCCACTATACCAATACTATCACAATATCCATGTGACCTATTGCAAGACAATAATAATGCAATAAT\r",
      ">79549\r",
      "TTGGACTATCGTAAGMGACCACTTGCCGTAAGCGACCATTAACTCTTCRCAATAGACCTWGTCACGGTTTTCGACGCCATCTTGACGAGTAnnnnCGGGGATGTCTTACAGACAAATGTATAGAAAATTTTAAAAAGTGGTTCTAGGTCTTGTAGTACATGTAACGCCCTCAATKTTTTTCAG\r",
      ">82074\r",
      "ATAAAAATGTTGATAAAAGTTGATGTAACCTACATGTAGTCATAAGAAATTTGTACCAACAGTATCCATGGCAACCATTGTTTATTTTGTCnnnnnGGTTGTGATCTACCAAAACATGTTGCTCTTTAACAATTTCTTCTCTTGGAGCAAAGTCTTCACACAAGTTTTGAAATGACATTCTTAGA\r",
      ">82175\r",
      "TTTCCAAATAGACAGCTTGCTTGCAGGATCTTCTTACTGGTGATTTGTTTATGTCATGTCCAAAAGAAGTTACTCACACTTGTTGTTTTATGCnnnnCGGGTGTCATCCCTTCTTTACACATTCCAAAATCTGCCAACTTGATATGTCCATCTTTGTCTAAAAGTACATTATCTAATTTTAAAT\r\n"
     ]
    }
   ],
   "source": [
    "!head diff_loci2.fasta"
   ]
  },
  {
   "cell_type": "code",
   "execution_count": 67,
   "metadata": {},
   "outputs": [],
   "source": [
    "#these sequences were subject to web-based blastn search of nr database with e-05 threshold"
   ]
  },
  {
   "cell_type": "code",
   "execution_count": 319,
   "metadata": {},
   "outputs": [
    {
     "name": "stdout",
     "output_type": "stream",
     "text": [
      "# blastn\r\n",
      "# Iteration: 0\r\n",
      "# Query: 20278\r\n",
      "# RID: NK46MM1J014\r\n",
      "# Database: nr\r\n",
      "# Fields: query acc.ver, subject acc.ver, % identity, alignment length, mismatches, gap opens, q. start, q. end, s. start, s. end, evalue, bit score\r\n",
      "# 1 hits found\r\n",
      "20278\tXM_020775789.1\t86.301\t73\t9\t1\t8\t79\t971\t1043\t1.53e-12\t84.2\r\n",
      "# blastn\r\n",
      "# Iteration: 0\r\n"
     ]
    }
   ],
   "source": [
    "!head NK46MM1J014-Alignment.txt"
   ]
  },
  {
   "cell_type": "code",
   "execution_count": 320,
   "metadata": {
    "collapsed": true
   },
   "outputs": [],
   "source": [
    "#remove headers\n",
    "!sed '/^#/ d' NK46MM1J014-Alignment.txt > algn.txt"
   ]
  },
  {
   "cell_type": "code",
   "execution_count": 321,
   "metadata": {},
   "outputs": [
    {
     "name": "stdout",
     "output_type": "stream",
     "text": [
      "20278\tXM_020775789.1\t86.301\t73\t9\t1\t8\t79\t971\t1043\t1.53e-12\t84.2\r\n",
      "36065\tXM_020762555.1\t78.378\t74\t16\t0\t2\t75\t822\t895\t4.99e-06\t62.6\r\n",
      "50692\tXM_029323598.1\t85.227\t88\t13\t0\t96\t183\t4417\t4504\t1.99e-17\t101\r\n",
      "50692\tXM_015916211.1\t86.420\t81\t11\t0\t103\t183\t1668\t1748\t2.42e-16\t97.8\r\n",
      "50692\tXM_015916210.1\t86.420\t81\t11\t0\t103\t183\t2181\t2261\t2.42e-16\t97.8\r\n",
      "50692\tXM_015916209.1\t86.420\t81\t11\t0\t103\t183\t1788\t1868\t2.42e-16\t97.8\r\n",
      "50692\tXM_015916208.1\t86.420\t81\t11\t0\t103\t183\t1671\t1751\t2.42e-16\t97.8\r\n",
      "50692\tXM_015916207.1\t86.420\t81\t11\t0\t103\t183\t1868\t1948\t2.42e-16\t97.8\r\n",
      "50692\tXM_015916206.1\t86.420\t81\t11\t0\t103\t183\t2184\t2264\t2.42e-16\t97.8\r\n",
      "50692\tXM_015904863.1\t86.420\t81\t11\t0\t103\t183\t2198\t2118\t2.42e-16\t97.8\r\n"
     ]
    }
   ],
   "source": [
    "!head algn.txt"
   ]
  },
  {
   "cell_type": "code",
   "execution_count": 322,
   "metadata": {},
   "outputs": [],
   "source": [
    "#convert to tab unix\n",
    "!awk '{ for(i=1;i<=NF;i++){if(i==NF){printf(\"%s\\n\",$NF);}else {printf(\"%s\\t\",$i)}}}' algn.txt > algn2.txt"
   ]
  },
  {
   "cell_type": "code",
   "execution_count": 323,
   "metadata": {},
   "outputs": [
    {
     "name": "stdout",
     "output_type": "stream",
     "text": [
      "20278\tXM_020775789.1\t86.301\t73\t9\t1\t8\t79\t971\t1043\t1.53e-12\t84.2\r\n",
      "36065\tXM_020762555.1\t78.378\t74\t16\t0\t2\t75\t822\t895\t4.99e-06\t62.6\r\n",
      "50692\tXM_029323598.1\t85.227\t88\t13\t0\t96\t183\t4417\t4504\t1.99e-17\t101\r\n",
      "50692\tXM_015916211.1\t86.420\t81\t11\t0\t103\t183\t1668\t1748\t2.42e-16\t97.8\r\n",
      "50692\tXM_015916210.1\t86.420\t81\t11\t0\t103\t183\t2181\t2261\t2.42e-16\t97.8\r\n",
      "50692\tXM_015916209.1\t86.420\t81\t11\t0\t103\t183\t1788\t1868\t2.42e-16\t97.8\r\n",
      "50692\tXM_015916208.1\t86.420\t81\t11\t0\t103\t183\t1671\t1751\t2.42e-16\t97.8\r\n",
      "50692\tXM_015916207.1\t86.420\t81\t11\t0\t103\t183\t1868\t1948\t2.42e-16\t97.8\r\n",
      "50692\tXM_015916206.1\t86.420\t81\t11\t0\t103\t183\t2184\t2264\t2.42e-16\t97.8\r\n",
      "50692\tXM_015904863.1\t86.420\t81\t11\t0\t103\t183\t2198\t2118\t2.42e-16\t97.8\r\n"
     ]
    }
   ],
   "source": [
    "!head algn2.txt"
   ]
  },
  {
   "cell_type": "code",
   "execution_count": 324,
   "metadata": {},
   "outputs": [],
   "source": [
    "#return only unique hits < 1e-05\n",
    "!awk '{ if ($11 < 0.0001) { print } }' algn2.txt | sort -uk1,1 > tophits.txt"
   ]
  },
  {
   "cell_type": "code",
   "execution_count": 325,
   "metadata": {},
   "outputs": [
    {
     "name": "stdout",
     "output_type": "stream",
     "text": [
      "20278\tXM_020775789.1\t86.301\t73\t9\t1\t8\t79\t971\t1043\t1.53e-12\t84.2\r\n",
      "36065\tXM_020762555.1\t78.378\t74\t16\t0\t2\t75\t822\t895\t4.99e-06\t62.6\r\n",
      "50692\tXM_029323598.1\t85.227\t88\t13\t0\t96\t183\t4417\t4504\t1.99e-17\t101\r\n",
      "51711\tXM_015903081.1\t80.682\t88\t17\t0\t1\t88\t562\t649\t5.33e-12\t83.3\r\n",
      "66685\tXM_020757069.1\t91.803\t61\t5\t0\t31\t91\t3810\t3750\t1.25e-13\t88.7\r\n",
      "69826\tXR_002297590.1\t87.952\t83\t10\t0\t9\t91\t1\t83\t4.67e-19\t105\r\n",
      "76792\tXR_003446911.1\t87.500\t48\t6\t0\t116\t163\t1325\t1278\t1.74e-05\t60.8\r\n",
      "82175\tXM_020748568.1\t87.059\t85\t11\t0\t100\t184\t1771\t1687\t1.63e-18\t104\r\n"
     ]
    }
   ],
   "source": [
    "!cat tophits.txt"
   ]
  },
  {
   "cell_type": "code",
   "execution_count": 326,
   "metadata": {},
   "outputs": [],
   "source": [
    "#get just NCBI seq ids\n",
    "!awk '{print $2}' tophits.txt > tophits_seqid.txt "
   ]
  },
  {
   "cell_type": "code",
   "execution_count": 327,
   "metadata": {},
   "outputs": [
    {
     "name": "stdout",
     "output_type": "stream",
     "text": [
      "XM_020775789.1\r\n",
      "XM_020762555.1\r\n",
      "XM_029323598.1\r\n",
      "XM_015903081.1\r\n",
      "XM_020757069.1\r\n",
      "XR_002297590.1\r\n",
      "XR_003446911.1\r\n",
      "XM_020748568.1\r\n"
     ]
    }
   ],
   "source": [
    "!cat tophits_seqid.txt"
   ]
  },
  {
   "cell_type": "code",
   "execution_count": null,
   "metadata": {
    "collapsed": true
   },
   "outputs": [],
   "source": []
  }
 ],
 "metadata": {
  "kernelspec": {
   "display_name": "Python 2",
   "language": "python",
   "name": "python2"
  },
  "language_info": {
   "codemirror_mode": {
    "name": "ipython",
    "version": 2
   },
   "file_extension": ".py",
   "mimetype": "text/x-python",
   "name": "python",
   "nbconvert_exporter": "python",
   "pygments_lexer": "ipython2",
   "version": "2.7.13"
  }
 },
 "nbformat": 4,
 "nbformat_minor": 1
}
