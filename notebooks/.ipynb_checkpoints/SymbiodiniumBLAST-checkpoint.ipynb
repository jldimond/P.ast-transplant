{
 "cells": [
  {
   "cell_type": "markdown",
   "metadata": {},
   "source": [
    "## This notebook performs BLAST searches of ddRADseq reads against a custom Symbiodinium database. The goal of this analysis is to identify symbiont populations in each coral at the clade level."
   ]
  },
  {
   "cell_type": "markdown",
   "metadata": {},
   "source": [
    "NCBI EDirect installed according to instructions (https://www.ncbi.nlm.nih.gov/books/NBK179288/#chapter6.Getting_Started)"
   ]
  },
  {
   "cell_type": "code",
   "execution_count": 15,
   "metadata": {
    "scrolled": true
   },
   "outputs": [
    {
     "ename": "SyntaxError",
     "evalue": "invalid syntax (<ipython-input-15-3af491a48041>, line 1)",
     "output_type": "error",
     "traceback": [
      "\u001b[0;36m  File \u001b[0;32m\"<ipython-input-15-3af491a48041>\"\u001b[0;36m, line \u001b[0;32m1\u001b[0m\n\u001b[0;31m    esearch -db nuccore -query \"Symbiodinium [ORGN] AND Symbiodinium sp. clade A [ORGN]\" | efetch -format fasta\u001b[0m\n\u001b[0m                      ^\u001b[0m\n\u001b[0;31mSyntaxError\u001b[0m\u001b[0;31m:\u001b[0m invalid syntax\n"
     ]
    }
   ],
   "source": [
    "#Extract Symbiodinium clade A records from NCBI nucleotide database using EDirect\n",
    "!esearch -db nuccore -query \"Symbiodinium [ORGN] AND Symbiodinium sp. clade A [ORGN]\" | \n",
    "efetch -format fasta > /Volumes/toaster/jdimond/Porites-astreoides-RAD/data/SymCladeA.fasta"
   ]
  },
  {
   "cell_type": "code",
   "execution_count": 16,
   "metadata": {
    "scrolled": true
   },
   "outputs": [
    {
     "ename": "SyntaxError",
     "evalue": "invalid syntax (<ipython-input-16-012118ea55dc>, line 1)",
     "output_type": "error",
     "traceback": [
      "\u001b[0;36m  File \u001b[0;32m\"<ipython-input-16-012118ea55dc>\"\u001b[0;36m, line \u001b[0;32m1\u001b[0m\n\u001b[0;31m    esearch -db nuccore -query \"Symbiodinium [ORGN] AND Symbiodinium sp. clade A [ORGN]\" |\u001b[0m\n\u001b[0m                      ^\u001b[0m\n\u001b[0;31mSyntaxError\u001b[0m\u001b[0;31m:\u001b[0m invalid syntax\n"
     ]
    }
   ],
   "source": [
    "#Extract Symbiodinium clade B records from NCBI nucleotide database\n",
    "!esearch -db nuccore -query \"Symbiodinium [ORGN] AND Symbiodinium sp. clade B [ORGN]\" | \n",
    "efetch -format fasta > /Volumes/toaster/jdimond/Porites-astreoides-RAD/data/SymCladeB.fasta"
   ]
  },
  {
   "cell_type": "code",
   "execution_count": null,
   "metadata": {
    "collapsed": true
   },
   "outputs": [],
   "source": [
    "#Extract Symbiodinium clade C records from NCBI nucleotide database\n",
    "!esearch -db nuccore -query \"Symbiodinium [ORGN] AND Symbiodinium sp. clade C [ORGN]\" | \n",
    "efetch -format fasta > /Volumes/toaster/jdimond/Porites-astreoides-RAD/data/SymCladeC.fasta"
   ]
  },
  {
   "cell_type": "code",
   "execution_count": null,
   "metadata": {
    "collapsed": true
   },
   "outputs": [],
   "source": [
    "#Extract Symbiodinium clade D records from NCBI nucleotide database\n",
    "!esearch -db nuccore -query \"Symbiodinium [ORGN] AND Symbiodinium sp. clade D [ORGN]\" | \n",
    "efetch -format fasta > /Volumes/toaster/jdimond/Porites-astreoides-RAD/data/SymCladeD.fasta"
   ]
  },
  {
   "cell_type": "code",
   "execution_count": 2,
   "metadata": {},
   "outputs": [
    {
     "name": "stdout",
     "output_type": "stream",
     "text": [
      "/Volumes/toaster/jdimond/Porites-astreoides-RAD/data\n"
     ]
    }
   ],
   "source": [
    "cd /Volumes/toaster/jdimond/Porites-astreoides-RAD/data"
   ]
  },
  {
   "cell_type": "code",
   "execution_count": 18,
   "metadata": {},
   "outputs": [
    {
     "name": "stdout",
     "output_type": "stream",
     "text": [
      "239311\r\n"
     ]
    }
   ],
   "source": [
    "!grep -c \"^>\" SymCladeA.fasta"
   ]
  },
  {
   "cell_type": "code",
   "execution_count": 19,
   "metadata": {},
   "outputs": [
    {
     "name": "stdout",
     "output_type": "stream",
     "text": [
      "88814\r\n"
     ]
    }
   ],
   "source": [
    "!grep -c \"^>\" SymCladeB.fasta"
   ]
  },
  {
   "cell_type": "code",
   "execution_count": 20,
   "metadata": {},
   "outputs": [
    {
     "name": "stdout",
     "output_type": "stream",
     "text": [
      "29946\r\n"
     ]
    }
   ],
   "source": [
    "!grep -c \"^>\" SymCladeC.fasta"
   ]
  },
  {
   "cell_type": "code",
   "execution_count": 21,
   "metadata": {},
   "outputs": [
    {
     "name": "stdout",
     "output_type": "stream",
     "text": [
      "24661\r\n"
     ]
    }
   ],
   "source": [
    "!grep -c \"^>\" SymCladeD.fasta"
   ]
  },
  {
   "cell_type": "markdown",
   "metadata": {},
   "source": [
    "### Since the resulting fasta files differ in their number of sequences, we want to generate fastas with an equal number of randomly selected sequences"
   ]
  },
  {
   "cell_type": "code",
   "execution_count": 27,
   "metadata": {},
   "outputs": [
    {
     "name": "stdout",
     "output_type": "stream",
     "text": [
      "gshuf: write error: Broken pipe\r\n",
      "gshuf: write error\r\n"
     ]
    }
   ],
   "source": [
    "#This code linearizes the fasta file, uses gshuf to randomly shuffle the records, then takes the first 20,000 records\n",
    "#and writes to a new file\n",
    "!cat SymCladeA.fasta |\\\n",
    "awk '/^>/ { if(i>0) printf(\"\\n\"); i++; printf(\"%s\\t\",$0); next;} {printf(\"%s\",$0);} END { printf(\"\\n\");}' |\\\n",
    "gshuf |\\\n",
    "head -n 20000 | tr '\\t' '\\n' > SymCladeA_rand.fasta"
   ]
  },
  {
   "cell_type": "code",
   "execution_count": 28,
   "metadata": {},
   "outputs": [
    {
     "name": "stdout",
     "output_type": "stream",
     "text": [
      "gshuf: write error: Broken pipe\r\n",
      "gshuf: write error\r\n"
     ]
    }
   ],
   "source": [
    "!cat SymCladeB.fasta |\\\n",
    "awk '/^>/ { if(i>0) printf(\"\\n\"); i++; printf(\"%s\\t\",$0); next;} {printf(\"%s\",$0);} END { printf(\"\\n\");}' |\\\n",
    "gshuf |\\\n",
    "head -n 20000 | tr '\\t' '\\n' > SymCladeB_rand.fasta"
   ]
  },
  {
   "cell_type": "code",
   "execution_count": 29,
   "metadata": {},
   "outputs": [
    {
     "name": "stdout",
     "output_type": "stream",
     "text": [
      "gshuf: write error: Broken pipe\r\n",
      "gshuf: write error\r\n"
     ]
    }
   ],
   "source": [
    "!cat SymCladeC.fasta |\\\n",
    "awk '/^>/ { if(i>0) printf(\"\\n\"); i++; printf(\"%s\\t\",$0); next;} {printf(\"%s\",$0);} END { printf(\"\\n\");}' |\\\n",
    "gshuf |\\\n",
    "head -n 20000 | tr '\\t' '\\n' > SymCladeC_rand.fasta"
   ]
  },
  {
   "cell_type": "code",
   "execution_count": 30,
   "metadata": {},
   "outputs": [
    {
     "name": "stdout",
     "output_type": "stream",
     "text": [
      "gshuf: write error: Broken pipe\r\n",
      "gshuf: write error\r\n"
     ]
    }
   ],
   "source": [
    "!cat SymCladeD.fasta |\\\n",
    "awk '/^>/ { if(i>0) printf(\"\\n\"); i++; printf(\"%s\\t\",$0); next;} {printf(\"%s\",$0);} END { printf(\"\\n\");}' |\\\n",
    "gshuf |\\\n",
    "head -n 20000 | tr '\\t' '\\n' > SymCladeD_rand.fasta"
   ]
  },
  {
   "cell_type": "code",
   "execution_count": 31,
   "metadata": {},
   "outputs": [
    {
     "name": "stdout",
     "output_type": "stream",
     "text": [
      "20000\r\n"
     ]
    }
   ],
   "source": [
    "!grep -c \"^>\" SymCladeA_rand.fasta"
   ]
  },
  {
   "cell_type": "code",
   "execution_count": 32,
   "metadata": {},
   "outputs": [
    {
     "name": "stdout",
     "output_type": "stream",
     "text": [
      "20000\r\n"
     ]
    }
   ],
   "source": [
    "!grep -c \"^>\" SymCladeB_rand.fasta"
   ]
  },
  {
   "cell_type": "code",
   "execution_count": 34,
   "metadata": {},
   "outputs": [
    {
     "name": "stdout",
     "output_type": "stream",
     "text": [
      "20000\r\n"
     ]
    }
   ],
   "source": [
    "!grep -c \"^>\" SymCladeC_rand.fasta"
   ]
  },
  {
   "cell_type": "code",
   "execution_count": 35,
   "metadata": {},
   "outputs": [
    {
     "name": "stdout",
     "output_type": "stream",
     "text": [
      "20000\r\n"
     ]
    }
   ],
   "source": [
    "!grep -c \"^>\" SymCladeD_rand.fasta"
   ]
  },
  {
   "cell_type": "code",
   "execution_count": 36,
   "metadata": {
    "collapsed": true
   },
   "outputs": [],
   "source": [
    "#Now concatenate each clade into single fasta\n",
    "!cat SymCladeA_rand.fasta SymCladeB_rand.fasta SymCladeC_rand.fasta SymCladeD_rand.fasta > SymAll.fasta"
   ]
  },
  {
   "cell_type": "code",
   "execution_count": 37,
   "metadata": {},
   "outputs": [
    {
     "name": "stdout",
     "output_type": "stream",
     "text": [
      "80000\r\n"
     ]
    }
   ],
   "source": [
    "!grep -c \"^>\" SymAll.fasta"
   ]
  },
  {
   "cell_type": "code",
   "execution_count": 86,
   "metadata": {},
   "outputs": [
    {
     "name": "stdout",
     "output_type": "stream",
     "text": [
      "\n",
      "\n",
      "Building a new DB, current time: 09/08/2017 22:24:28\n",
      "New DB name:   SymDB\n",
      "New DB title:  SymAll.fasta\n",
      "Sequence type: Nucleotide\n",
      "Keep Linkouts: T\n",
      "Keep MBits: T\n",
      "Maximum file size: 1000000000B\n",
      "Error: (1431.1) FASTA-Reader: Warning: FASTA-Reader: Ignoring invalid residues at position(s): On line 216: 957, 962-971, 976, 982-983, 985, 987, 992-993, 996, 998-999, 1003-1009, 1017-1018, 1020-1026, 1028, 1030-1031, 1033, 1036-1042, 1051, 1053, 1061-1062, 1064, 1067\n",
      "Error: (1431.1) FASTA-Reader: Warning: FASTA-Reader: Ignoring invalid residues at position(s): On line 996: 236, 241-250, 255, 261-262, 264, 266, 271-272, 275, 277-278, 282-287, 295-296, 298-302, 304, 306-307, 309, 312-318, 327, 329, 337-338, 340, 343\n",
      "Error: (1431.1) FASTA-Reader: Warning: FASTA-Reader: Ignoring invalid residues at position(s): On line 1600: 865, 870-879, 884, 890-891, 893, 895, 900-901, 904, 906-907, 911-916, 924-925, 927-932, 934, 936-937, 939, 942-948, 957, 959, 967-968, 970, 973\n",
      "Error: (1431.1) FASTA-Reader: Warning: FASTA-Reader: Ignoring invalid residues at position(s): On line 1742: 5133, 5138-5147, 5152, 5158-5159, 5161, 5163, 5168-5169, 5172, 5174-5175, 5179-5184, 5192-5193, 5195-5200, 5202, 5204-5205, 5207, 5210-5216, 5225, 5227, 5235-5236, 5238, 5241\n",
      "Error: (1431.1) FASTA-Reader: Warning: FASTA-Reader: Ignoring invalid residues at position(s): On line 8302: 3232, 3237-3246, 3251, 3257-3258, 3260, 3262, 3267-3268, 3271, 3273-3274, 3278-3284, 3292-3293, 3295-3300, 3302, 3304-3305, 3307, 3310-3316, 3325, 3327, 3335-3336, 3338, 3341\n",
      "Error: (1431.1) FASTA-Reader: Warning: FASTA-Reader: Ignoring invalid residues at position(s): On line 10522: 2213, 2218-2227, 2232, 2238-2239, 2241, 2243, 2248-2249, 2252, 2254-2255, 2259-2265, 2273-2274, 2276-2280, 2282, 2284-2285, 2287, 2290-2296, 2305, 2307, 2315-2316, 2318, 2321\n",
      "Error: (1431.1) FASTA-Reader: Warning: FASTA-Reader: Ignoring invalid residues at position(s): On line 13844: 877, 882-891, 896, 902-903, 905, 907, 912-913, 916, 918-919, 923-929, 937-938, 940-945, 947, 949-950, 952, 955-961, 970, 972, 980-981, 983, 986\n",
      "Error: (1431.1) FASTA-Reader: Warning: FASTA-Reader: Ignoring invalid residues at position(s): On line 16098: 2550, 2555-2564, 2569, 2575-2576, 2578, 2580, 2585-2586, 2589, 2591-2592, 2596-2601, 2609-2610, 2612-2616, 2618, 2620-2621, 2623, 2626-2632, 2641, 2643, 2651-2652, 2654, 2657\n",
      "Error: (1431.1) FASTA-Reader: Warning: FASTA-Reader: Ignoring invalid residues at position(s): On line 16980: 1565, 1570-1579, 1584, 1590-1591, 1593, 1595, 1600-1601, 1604, 1606-1607, 1611-1617, 1625-1626, 1628-1634, 1636, 1638-1639, 1641, 1644-1650, 1659, 1661, 1669-1670, 1672, 1675\n",
      "Error: (1431.1) FASTA-Reader: Warning: FASTA-Reader: Ignoring invalid residues at position(s): On line 17854: 753, 758-767, 772, 778-779, 781, 783, 788-789, 792, 794-795, 799-805, 813-814, 816-820, 822, 824-825, 827, 830-836, 845, 847, 855-856, 858, 861\n",
      "Error: (1431.1) FASTA-Reader: Warning: FASTA-Reader: Ignoring invalid residues at position(s): On line 18976: 48554, 48559-48568, 48573, 48579-48580, 48582, 48584, 48589-48590, 48593, 48595-48596, 48600-48605, 48613-48614, 48616-48621, 48623, 48625-48626, 48628, 48631-48637, 48646, 48648, 48656-48657, 48659, 48662\n",
      "Error: (1431.1) FASTA-Reader: Warning: FASTA-Reader: Ignoring invalid residues at position(s): On line 21464: 466, 471-480, 485, 491-492, 494, 496, 501-502, 505, 507-508, 512-517, 525-526, 528-532, 534, 536-537, 539, 542-548, 557, 559, 567-568, 570, 573\n",
      "Error: (1431.1) FASTA-Reader: Warning: FASTA-Reader: Ignoring invalid residues at position(s): On line 21898: 257, 262-271, 276, 282-283, 285, 287, 292-293, 296, 298-299, 303-309, 317-318, 320-324, 326, 328-329, 331, 334-340, 349, 351, 359-360, 362, 365\n",
      "Error: (1431.1) FASTA-Reader: Warning: FASTA-Reader: Ignoring invalid residues at position(s): On line 31086: 22, 27-36, 41, 47-48, 50, 52, 57-58, 61, 63-64, 68-74, 82-83, 85-90, 92, 94-95, 97, 100-106, 115, 117, 125-126, 128, 131\n",
      "Error: (1431.1) FASTA-Reader: Warning: FASTA-Reader: First data line in seq is about 100% ambiguous nucleotides (shouldn't be over 40%)\n",
      "Error: (1431.1) FASTA-Reader: Warning: FASTA-Reader: Ignoring invalid residues at position(s): On line 134100: 915, 918-929, 934, 940-941, 943, 945, 950-951, 954, 957, 962, 966-972, 980-981, 983, 986\n",
      "Error: (1431.1) FASTA-Reader: Warning: FASTA-Reader: Ignoring invalid residues at position(s): On line 142246: 145, 148-159, 164, 170-171, 173, 175, 180-181, 184, 187, 192, 196-201, 209-210, 212, 215\n",
      "Error: (1431.1) FASTA-Reader: Warning: FASTA-Reader: Ignoring invalid residues at position(s): On line 146312: 523, 526-537, 542, 548-549, 551, 553, 558-559, 562, 565, 570, 574-579, 587-588, 590, 593\n",
      "Error: (1431.1) FASTA-Reader: Warning: FASTA-Reader: Ignoring invalid residues at position(s): On line 157992: 1581, 1584-1595, 1600, 1606-1607, 1609, 1611, 1616-1617, 1620, 1623, 1628, 1632-1637, 1645-1646, 1648, 1651\n",
      "Adding sequences from FASTA; added 80000 sequences in 8.14629 seconds.\n"
     ]
    }
   ],
   "source": [
    "#Now we will make a BLAST database out of the fasta\n",
    "!makeblastdb -in SymAll.fasta -parse_seqids -dbtype nucl -out SymDB"
   ]
  },
  {
   "cell_type": "code",
   "execution_count": 44,
   "metadata": {
    "collapsed": true
   },
   "outputs": [],
   "source": [
    "#make new directory for fastas converted from RADseq fastqs\n",
    "!mkdir fastas"
   ]
  },
  {
   "cell_type": "code",
   "execution_count": 88,
   "metadata": {},
   "outputs": [
    {
     "name": "stdout",
     "output_type": "stream",
     "text": [
      "/Volumes/toaster/jdimond/Porites-astreoides-RAD/analyses/ipyrad_analysis/fastqs\n"
     ]
    }
   ],
   "source": [
    "cd ../analyses/ipyrad_analysis/fastqs/"
   ]
  },
  {
   "cell_type": "code",
   "execution_count": 60,
   "metadata": {
    "collapsed": true
   },
   "outputs": [],
   "source": [
    "#unzip fastq to new folder\n",
    "!for file in *.gz; do gunzip -c \"$file\" > /Volumes/toaster/jdimond/Porites-astreoides-RAD/data/fastas/\"${file/.fastq.gz*/.fastq}\"; done"
   ]
  },
  {
   "cell_type": "code",
   "execution_count": 89,
   "metadata": {},
   "outputs": [
    {
     "name": "stdout",
     "output_type": "stream",
     "text": [
      "/Volumes/toaster/jdimond/Porites-astreoides-RAD/data/fastas\n"
     ]
    }
   ],
   "source": [
    "cd ../../../data/fastas/"
   ]
  },
  {
   "cell_type": "code",
   "execution_count": 162,
   "metadata": {},
   "outputs": [
    {
     "name": "stdout",
     "output_type": "stream",
     "text": [
      "awk: can't open file *.fastq\r\n",
      " source line number 1\r\n"
     ]
    }
   ],
   "source": [
    "#convert fastq to fasta\n",
    "!for file in *.fastq; do awk '{if(NR%4==1) {printf(\">%s\\n\",substr($0,2));} else if(NR%4==2) print;}' \"$file\" > \"${file/.fastq*/.fasta}\"; done"
   ]
  },
  {
   "cell_type": "code",
   "execution_count": 103,
   "metadata": {
    "collapsed": true
   },
   "outputs": [],
   "source": [
    "#remove fastq files\n",
    "!rm *.fastq"
   ]
  },
  {
   "cell_type": "code",
   "execution_count": 148,
   "metadata": {},
   "outputs": [
    {
     "name": "stdout",
     "output_type": "stream",
     "text": [
      "mkdir: epi_fastas: File exists\r\n",
      "mv: rename *_epi to ./epi_fastas/*_epi: No such file or directory\r\n"
     ]
    }
   ],
   "source": [
    "#move epi files to different directory and save for later\n",
    "!mkdir epi_fastas"
   ]
  },
  {
   "cell_type": "code",
   "execution_count": 157,
   "metadata": {},
   "outputs": [],
   "source": [
    "!find . -name '*epi' -exec mv -i {} ./epi_fastas \\;"
   ]
  },
  {
   "cell_type": "code",
   "execution_count": 76,
   "metadata": {
    "collapsed": true
   },
   "outputs": [],
   "source": [
    "#make new directory for BLAST output files\n",
    "!mkdir ../../analyses/Sym_BLAST"
   ]
  },
  {
   "cell_type": "code",
   "execution_count": 159,
   "metadata": {},
   "outputs": [
    {
     "name": "stdout",
     "output_type": "stream",
     "text": [
      "Command line argument error: Query is Empty!\n",
      "Command line argument error: Query is Empty!\n",
      "Command line argument error: Query is Empty!\n",
      "Command line argument error: Query is Empty!\n",
      "Command line argument error: Query is Empty!\n",
      "Command line argument error: Query is Empty!\n",
      "Command line argument error: Query is Empty!\n",
      "Command line argument error: Query is Empty!\n",
      "Command line argument error: Query is Empty!\n"
     ]
    }
   ],
   "source": [
    "#BLAST (megablast) of fastas against Symbiodinium db created above\n",
    "!for i in *.fasta; do blastn -task megablast -query $i -db ../SymDB -evalue 1E-40 -outfmt \"6 qseqid sallseqid salltitles evalue length pident bitscore\" -max_hsps 1 -out ../../analyses/Sym_BLAST/$i.blast; done"
   ]
  },
  {
   "cell_type": "code",
   "execution_count": null,
   "metadata": {
    "collapsed": true
   },
   "outputs": [],
   "source": []
  }
 ],
 "metadata": {
  "anaconda-cloud": {},
  "kernelspec": {
   "display_name": "Python 2",
   "language": "python",
   "name": "python2"
  },
  "language_info": {
   "codemirror_mode": {
    "name": "ipython",
    "version": 2
   },
   "file_extension": ".py",
   "mimetype": "text/x-python",
   "name": "python",
   "nbconvert_exporter": "python",
   "pygments_lexer": "ipython2",
   "version": "2.7.13"
  }
 },
 "nbformat": 4,
 "nbformat_minor": 1
}
