{
 "cells": [
  {
   "cell_type": "markdown",
   "metadata": {},
   "source": [
    "# RADseq data assembly for  _Porites astreoides_ "
   ]
  },
  {
   "cell_type": "markdown",
   "metadata": {},
   "source": [
    "This is an assembly of ddRADseq and EpiRADseq data for Porites astreoides corals from Belize. Data files constitute 100bp paired-end reads on the Illumina HiSeq4000. 96 samples were prepared on a 96 well plate and can be identified by their unique combination of indices and barcodes. The 12 indices were grouped into 12 separate libraries that were submitted for sequencing. They were combined in equimolar ratios on 1 HiSeq4000 lane.\n"
   ]
  },
  {
   "cell_type": "markdown",
   "metadata": {},
   "source": [
    "## Demultiplxed and filtered reads were combined into single directory"
   ]
  },
  {
   "cell_type": "code",
   "execution_count": 23,
   "metadata": {},
   "outputs": [
    {
     "name": "stdout",
     "output_type": "stream",
     "text": [
      "------- ipyrad params file (v.0.5.15)-------------------------------------------\r\n",
      "data2                          ## [0] [assembly_name]: Assembly name. Used to name output directories for assembly steps\r\n",
      "/Volumes/toaster/jdimond/Porites-astreoides-RAD/analyses/ipyrad_analysis ## [1] [project_dir]: Project dir (made in curdir if not present)\r\n",
      "                               ## [2] [raw_fastq_path]: Location of raw non-demultiplexed fastq files\r\n",
      "                               ## [3] [barcodes_path]: Location of barcodes file\r\n",
      "/Volumes/toaster/jdimond/Porites-astreoides-RAD/analyses/ipyrad_analysis/fastqs/*.fastq.gz ## [4] [sorted_fastq_path]: Location of demultiplexed/sorted fastq files\r\n",
      "denovo-reference               ## [5] [assembly_method]: Assembly method (denovo, reference, denovo+reference, denovo-reference)\r\n",
      "/Volumes/toaster/jdimond/Porites-astreoides-RAD/data/Sym_genome/GCA_001939145.1_ASM193914v1_genomic.fna ## [6] [reference_sequence]: Location of reference sequence file\r\n",
      "pairddrad                      ## [7] [datatype]: Datatype (see docs): rad, gbs, ddrad, etc.\r\n",
      "TGCAG, NGG                     ## [8] [restriction_overhang]: Restriction overhang (cut1,) or (cut1, cut2)\r\n",
      "5                              ## [9] [max_low_qual_bases]: Max low quality base calls (Q<20) in a read\r\n",
      "33                             ## [10] [phred_Qscore_offset]: phred Q score offset (33 is default and very standard)\r\n",
      "10                             ## [11] [mindepth_statistical]: Min depth for statistical base calling\r\n",
      "10                             ## [12] [mindepth_majrule]: Min depth for majority-rule base calling\r\n",
      "10000                          ## [13] [maxdepth]: Max cluster depth within samples\r\n",
      "0.9                            ## [14] [clust_threshold]: Clustering threshold for de novo assembly\r\n",
      "0                              ## [15] [max_barcode_mismatch]: Max number of allowable mismatches in barcodes\r\n",
      "2                              ## [16] [filter_adapters]: Filter for adapters/primers (1 or 2=stricter)\r\n",
      "35                             ## [17] [filter_min_trim_len]: Min length of reads after adapter trim\r\n",
      "2                              ## [18] [max_alleles_consens]: Max alleles per site in consensus sequences\r\n",
      "5, 5                           ## [19] [max_Ns_consens]: Max N's (uncalled bases) in consensus (R1, R2)\r\n",
      "8, 8                           ## [20] [max_Hs_consens]: Max Hs (heterozygotes) in consensus (R1, R2)\r\n",
      "20                              ## [21] [min_samples_locus]: Min # samples per locus for output\r\n",
      "20, 20                         ## [22] [max_SNPs_locus]: Max # SNPs per locus (R1, R2)\r\n",
      "8, 8                           ## [23] [max_Indels_locus]: Max # of indels per locus (R1, R2)\r\n",
      "0.3                            ## [24] [max_shared_Hs_locus]: Max # heterozygous sites per locus (R1, R2)\r\n",
      "0, 0                           ## [25] [edit_cutsites]: Edit cut-sites (R1, R2) (see docs)\r\n",
      "0, 0, 0, 0                     ## [26] [trim_overhang]: Trim overhang (see docs) (R1>, <R1, R2>, <R2)\r\n",
      "a, g, k, m, l, n, p, s, u, t, v ## [27] [output_formats]: Output formats (see docs)\r\n",
      "                               ## [28] [pop_assign_file]: Path to population assignment file"
     ]
    }
   ],
   "source": [
    "!cat params-data2.txt"
   ]
  },
  {
   "cell_type": "code",
   "execution_count": 24,
   "metadata": {},
   "outputs": [
    {
     "name": "stdout",
     "output_type": "stream",
     "text": [
      "\n",
      " -------------------------------------------------------------\n",
      "  ipyrad [v.0.5.15]\n",
      "  Interactive assembly and analysis of RAD-seq data\n",
      " -------------------------------------------------------------\n",
      "  loading Assembly: data2\n",
      "  from saved path: /Volumes/toaster/jdimond/Porites-astreoides-RAD/analyses/ipyrad_analysis/data2.json\n",
      "  local compute node: [14 cores] on hummingbird.fish.washington.edu\n",
      "\n",
      "  Step 3: Clustering/Mapping reads\n",
      "  [####################] 100%  dereplicating         | 2:13:46  \n",
      "  [####################] 100%  mapping               | 10:01:38  \n",
      "  [####################] 100%  clustering            | 1:15:53  \n",
      "  [####################] 100%  building clusters     | 0:10:03  \n",
      "  [####################] 100%  chunking              | 0:01:11  \n",
      "  [####################] 100%  aligning              | 18:48:27  \n",
      "  [####################] 100%  concatenating         | 0:03:52  \n",
      "\n",
      "  Step 4: Joint estimation of error rate and heterozygosity\n",
      "  [####################] 100%  inferring [H, E]      | 12:55:18  \n",
      "\n",
      "  Step 5: Consensus base calling \n",
      "  Mean error  [0.00317 sd=0.00153]\n",
      "  Mean hetero [0.00903 sd=0.00210]\n",
      "  [####################] 100%  calculating depths    | 0:04:10  \n",
      "  [####################] 100%  chunking clusters     | 0:07:58  \n",
      "  [####################] 100%  consens calling       | 2:57:20  \n",
      "\n",
      "  Step 6: Clustering at 0.9 similarity across 96 samples\n",
      "  [####################] 100%  concat/shuffle input  | 0:01:06  \n",
      "  [####################] 100%  clustering across     | 0:07:14  \n",
      "  [####################] 100%  building clusters     | 0:02:09  \n",
      "  [####################] 100%  aligning clusters     | 0:21:41  \n",
      "  [####################] 100%  database indels       | 0:05:15  \n",
      "  [####################] 100%  indexing clusters     | 0:15:57  \n",
      "  [####################] 100%  building database     | 0:19:04  \n",
      "\n",
      "  Step 7: Filter and write output files for 96 Samples\n",
      "  [####################] 100%  filtering loci        | 0:00:30  \n",
      "  [####################] 100%  building loci/stats   | 0:00:07  \n",
      "  [####################] 100%  building vcf file     | 0:01:08  \n",
      "  [####################] 100%  writing vcf file      | 0:00:01  \n",
      "  [####################] 100%  building arrays       | 0:00:09  \n",
      "  [####################] 100%  writing outfiles      | 0:17:32  \n",
      "  Outfiles written to: /Volumes/toaster/jdimond/Porites-astreoides-RAD/analyses/ipyrad_analysis/data2_outfiles\n",
      "\n"
     ]
    }
   ],
   "source": [
    "!ipyrad -p params-data2.txt -c 14 -f -s 34567"
   ]
  }
 ],
 "metadata": {
  "anaconda-cloud": {},
  "kernelspec": {
   "display_name": "Python 2",
   "language": "python",
   "name": "python2"
  },
  "language_info": {
   "codemirror_mode": {
    "name": "ipython",
    "version": 2
   },
   "file_extension": ".py",
   "mimetype": "text/x-python",
   "name": "python",
   "nbconvert_exporter": "python",
   "pygments_lexer": "ipython2",
   "version": "2.7.13"
  }
 },
 "nbformat": 4,
 "nbformat_minor": 1
}
